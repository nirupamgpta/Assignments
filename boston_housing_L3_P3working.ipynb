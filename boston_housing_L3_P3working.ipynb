{
  "cells": [
    {
      "cell_type": "markdown",
      "metadata": {
        "id": "view-in-github",
        "colab_type": "text"
      },
      "source": [
        "<a href=\"https://colab.research.google.com/github/nirupamgpta/Assignments/blob/main/boston_housing_L3_P3working.ipynb\" target=\"_parent\"><img src=\"https://colab.research.google.com/assets/colab-badge.svg\" alt=\"Open In Colab\"/></a>"
      ]
    },
    {
      "cell_type": "code",
      "execution_count": null,
      "metadata": {
        "id": "RswQkoMAU1Cf"
      },
      "outputs": [],
      "source": [
        "!pip install keras==3.10.0\n",
        "!pip install tensorflow scikeras\n",
        "!pip install --upgrade scikit-learn tensorflow scikeras\n"
      ]
    },
    {
      "cell_type": "code",
      "execution_count": 4,
      "metadata": {
        "id": "rC3wQy8QaCeq"
      },
      "outputs": [],
      "source": [
        "# Regression Example With Boston Dataset: Baseline\n",
        "import numpy as np\n",
        "from pandas import read_csv\n",
        "from tensorflow.keras.models import Sequential\n",
        "from tensorflow.keras.layers import Dense\n",
        "from scikeras.wrappers import KerasRegressor\n",
        "from sklearn.model_selection import cross_val_score, KFold"
      ]
    },
    {
      "cell_type": "code",
      "execution_count": null,
      "metadata": {
        "id": "TfcnxSwZa90g"
      },
      "outputs": [],
      "source": [
        "# load dataset\n",
        "dataframe = read_csv(\"/content/sample_data/housing.csv\", delim_whitespace=True, header=None)\n",
        "dataset = dataframe.values\n",
        "# split into input (X) and output (Y) variables\n",
        "X = dataset[:,0:13]\n",
        "Y = dataset[:,13]"
      ]
    },
    {
      "cell_type": "code",
      "execution_count": 8,
      "metadata": {
        "id": "ihIYtz9PcGcs"
      },
      "outputs": [],
      "source": [
        "# define base model\n",
        "def baseline_model():\n",
        "\t# create model\n",
        "\tmodel = Sequential()\n",
        "\tmodel.add(Dense(13, input_dim=13, kernel_initializer='normal', activation='relu'))\n",
        "\tmodel.add(Dense(1, kernel_initializer='normal'))\n",
        "\t# Compile model\n",
        "\tmodel.compile(loss='mean_squared_error', optimizer='adam')\n",
        "\treturn model"
      ]
    },
    {
      "cell_type": "code",
      "execution_count": null,
      "metadata": {
        "id": "LxCL2o5LcQDB"
      },
      "outputs": [],
      "source": [
        "import numpy\n",
        "from scikeras.wrappers import KerasRegressor\n",
        "# fix random seed for reproducibility\n",
        "seed = 7\n",
        "numpy.random.seed(seed)\n",
        "# evaluate model\n",
        "estimator = KerasRegressor(build_fn=baseline_model, epochs=100, batch_size=5, verbose=0)\n",
        "kfold = KFold(n_splits=10, random_state=seed, shuffle=True)\n",
        "results = cross_val_score(estimator, X, Y, cv=kfold)\n",
        "print(\"Baseline: %.2f (%.2f) MSE\" % (results.mean(), results.std()))"
      ]
    },
    {
      "cell_type": "code",
      "source": [
        "# ---- Train final model on full dataset ----\n",
        "final_model = baseline_model()\n",
        "final_model.fit(X, Y, epochs=100, batch_size=5, verbose=0)\n",
        "\n",
        "# ---- Test prediction with sample input ----\n",
        "# Example input (replace with real values for 13 features)\n",
        "# Features: CRIM, ZN, INDUS, CHAS, NOX, RM, AGE, DIS, RAD, TAX, PTRATIO, B, LSTAT\n",
        "sample_input = np.array([[0.00632, 18.0, 2.31, 0, 0.538, 6.575,\n",
        "                          65.2, 4.09, 1, 296.0, 15.3, 396.9, 4.98]])\n",
        "\n",
        "prediction = final_model.predict(sample_input)\n",
        "print(\"\\nPredicted House Price (in $1000s):\", prediction[0][0])"
      ],
      "metadata": {
        "id": "u1-Lbmwwv48c"
      },
      "execution_count": null,
      "outputs": []
    }
  ],
  "metadata": {
    "accelerator": "GPU",
    "colab": {
      "gpuType": "T4",
      "provenance": [],
      "authorship_tag": "ABX9TyPCwnl+FkL6n+LdrfysJ8aD",
      "include_colab_link": true
    },
    "kernelspec": {
      "display_name": "Python 3",
      "name": "python3"
    },
    "language_info": {
      "name": "python"
    }
  },
  "nbformat": 4,
  "nbformat_minor": 0
}